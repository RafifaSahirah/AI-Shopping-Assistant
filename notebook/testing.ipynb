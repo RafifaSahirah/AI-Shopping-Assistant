{
 "cells": [
  {
   "cell_type": "markdown",
   "id": "3ff59dea",
   "metadata": {},
   "source": [
    "### 1. Setup & Imports"
   ]
  },
  {
   "cell_type": "code",
   "execution_count": 1,
   "id": "f62d512c",
   "metadata": {},
   "outputs": [
    {
     "name": "stderr",
     "output_type": "stream",
     "text": [
      "/Users/macbook/Documents/KULIAH/Project/AI_Shopping_Assistant/venv/lib/python3.11/site-packages/tqdm/auto.py:21: TqdmWarning: IProgress not found. Please update jupyter and ipywidgets. See https://ipywidgets.readthedocs.io/en/stable/user_install.html\n",
      "  from .autonotebook import tqdm as notebook_tqdm\n",
      "/Users/macbook/Documents/KULIAH/Project/AI_Shopping_Assistant/venv/lib/python3.11/site-packages/torchvision/datapoints/__init__.py:12: UserWarning: The torchvision.datapoints and torchvision.transforms.v2 namespaces are still Beta. While we do not expect major breaking changes, some APIs may still change according to user feedback. Please submit any feedback you may have in this issue: https://github.com/pytorch/vision/issues/6753, and you can also check out https://github.com/pytorch/vision/issues/7319 to learn more about the APIs that we suspect might involve future changes. You can silence this warning by calling torchvision.disable_beta_transforms_warning().\n",
      "  warnings.warn(_BETA_TRANSFORMS_WARNING)\n",
      "/Users/macbook/Documents/KULIAH/Project/AI_Shopping_Assistant/venv/lib/python3.11/site-packages/torchvision/transforms/v2/__init__.py:54: UserWarning: The torchvision.datapoints and torchvision.transforms.v2 namespaces are still Beta. While we do not expect major breaking changes, some APIs may still change according to user feedback. Please submit any feedback you may have in this issue: https://github.com/pytorch/vision/issues/6753, and you can also check out https://github.com/pytorch/vision/issues/7319 to learn more about the APIs that we suspect might involve future changes. You can silence this warning by calling torchvision.disable_beta_transforms_warning().\n",
      "  warnings.warn(_BETA_TRANSFORMS_WARNING)\n"
     ]
    }
   ],
   "source": [
    "# Install necessary packages \n",
    "import os\n",
    "import pickle\n",
    "import faiss\n",
    "import numpy as np\n",
    "import pandas as pd\n",
    "from sentence_transformers import SentenceTransformer\n",
    "import re\n",
    "import openai\n",
    "from dotenv import load_dotenv"
   ]
  },
  {
   "cell_type": "markdown",
   "id": "74b5b3c1",
   "metadata": {},
   "source": [
    "### 2. Load Configuration"
   ]
  },
  {
   "cell_type": "code",
   "execution_count": 2,
   "id": "681844c3",
   "metadata": {},
   "outputs": [],
   "source": [
    "# Load environment variables from .env \n",
    "load_dotenv()\n",
    "\n",
    "OPENAI_API_KEY = os.getenv(\"OPENAI_API_KEY\")\n",
    "BASE_URL = \"https://openrouter.ai/api/v1\"\n",
    "MODEL_NAME = \"all-MiniLM-L6-v2\"\n",
    "METADATA_PATH = \"../models/embeddings_faiss.pkl\"\n",
    "INDEX_PATH = \"../models/faiss_index.bin\"\n",
    "\n",
    "# Setup OpenAI client\n",
    "client = openai.OpenAI(api_key=OPENAI_API_KEY, base_url=BASE_URL)\n"
   ]
  },
  {
   "cell_type": "markdown",
   "id": "30969b35",
   "metadata": {},
   "source": [
    "### 3. Chatbot Utility (ChatGPT Completion)"
   ]
  },
  {
   "cell_type": "code",
   "execution_count": 3,
   "id": "ac182323",
   "metadata": {},
   "outputs": [],
   "source": [
    "def chatbot_response(user_query):\n",
    "    for attempt in range(3):  \n",
    "        try:\n",
    "            response = client.chat.completions.create(\n",
    "                model=\"gpt-3.5-turbo\",\n",
    "                messages=[{\"role\": \"user\", \"content\": user_query}],\n",
    "                max_tokens=300,\n",
    "                temperature=0.3\n",
    "            )\n",
    "            return response.choices[0].message.content.strip()\n",
    "        except Exception as e:\n",
    "            print(f\"Error: {e}\")\n",
    "            break\n",
    "    return \"AI response unavailable.\"\n"
   ]
  },
  {
   "cell_type": "markdown",
   "id": "8bea7282",
   "metadata": {},
   "source": [
    "### 4. Load Data, Model, and FAISS Index"
   ]
  },
  {
   "cell_type": "code",
   "execution_count": 4,
   "id": "b918a017",
   "metadata": {},
   "outputs": [],
   "source": [
    "# Load data & embeddings\n",
    "df, embeddings = pickle.load(open(METADATA_PATH, \"rb\"))\n",
    "\n",
    "# Normalize factors\n",
    "max_price = df[\"actual_price\"].max()\n",
    "max_rating = df[\"ratings\"].max()\n",
    "\n",
    "# Load or rebuild FAISS index\n",
    "if os.path.exists(INDEX_PATH):\n",
    "    faiss_index = faiss.read_index(INDEX_PATH)\n",
    "else:\n",
    "    faiss_index = faiss.IndexFlatL2(embeddings.shape[1])\n",
    "    faiss_index.add(embeddings)\n",
    "    faiss.write_index(faiss_index, INDEX_PATH)\n",
    "\n",
    "# Load embedding model\n",
    "embedding_model = SentenceTransformer(MODEL_NAME)\n"
   ]
  },
  {
   "cell_type": "markdown",
   "id": "f879cf86",
   "metadata": {},
   "source": [
    "### 5. FAISS Search with Price & Rating Embedding"
   ]
  },
  {
   "cell_type": "code",
   "execution_count": 5,
   "id": "922933ee",
   "metadata": {},
   "outputs": [],
   "source": [
    "def search_faiss(query, price=0, rating=0, top_k=5):\n",
    "    # Convert the search query into a numerical vector (embedding)\n",
    "    query_embedding = embedding_model.encode([query], convert_to_numpy=True).astype(np.float32)\n",
    "    \n",
    "    # Normalize price & rating (avoid division by zero)\n",
    "    normalized_price = np.array([[price / max_price]], dtype=np.float32) if max_price > 0 else np.array([[0]], dtype=np.float32)\n",
    "    normalized_rating = np.array([[rating / max_rating]], dtype=np.float32) if max_rating > 0 else np.array([[0]], dtype=np.float32)\n",
    "\n",
    "    # Make sure in the correct shape (1 row, 1 column)\n",
    "    normalized_price = normalized_price.reshape(1, -1)\n",
    "    normalized_rating = normalized_rating.reshape(1, -1)\n",
    "\n",
    "    # Append price & rating to query embedding\n",
    "    query_embedding = np.hstack((query_embedding, normalized_price, normalized_rating))\n",
    "    distances, indices = faiss_index.search(query_embedding, top_k)\n",
    "\n",
    "    # Retrieve and format the top_k search results from the dataframe\n",
    "    results = [\n",
    "        {\n",
    "            \"name\": df.iloc[idx][\"name\"],\n",
    "            \"actual_price\": df.iloc[idx][\"actual_price\"],\n",
    "            \"ratings\": df.iloc[idx][\"ratings\"],\n",
    "            \"score\": float(distances[0][i])\n",
    "        }\n",
    "        for i, idx in enumerate(indices[0]) if idx < len(df)\n",
    "    ]\n",
    "    return results"
   ]
  },
  {
   "cell_type": "markdown",
   "id": "cb3d6eba",
   "metadata": {},
   "source": [
    "### 6. Filter Utilities"
   ]
  },
  {
   "cell_type": "code",
   "execution_count": 6,
   "id": "141f4cbc",
   "metadata": {},
   "outputs": [],
   "source": [
    "def extract_price_range(query):\n",
    "    query = query.lower()\n",
    "\n",
    "    # Match patterns like \"under ₹1000\", \"above ₹500\", \"below 200\"\n",
    "    match = re.search(r\"(\\bunder\\b|\\babove\\b|\\bbelow\\b)?\\s?[₹$]?\\s?(\\d+)\", query, re.IGNORECASE)\n",
    "    if match:\n",
    "        condition = match.group(1) # 'under', 'above', 'below'\n",
    "        price = int(match.group(2))\n",
    "\n",
    "        if condition in [\"under\", \"below\"]:\n",
    "            return (\"max\", price)\n",
    "        elif condition == \"above\":\n",
    "            return (\"min\", price)\n",
    "        \n",
    "    # Handle high-end products    \n",
    "    if any(word in query for word in [\"premium\", \"high-end\", \"luxury\"]):\n",
    "        return (\"min\", 60000)\n",
    "    \n",
    "    return None"
   ]
  },
  {
   "cell_type": "markdown",
   "id": "c2c2a18f",
   "metadata": {},
   "source": [
    "### 7. Recommendation Flow"
   ]
  },
  {
   "cell_type": "code",
   "execution_count": 7,
   "id": "55c87a05",
   "metadata": {},
   "outputs": [],
   "source": [
    "def recommend_products(user_query, top_k=5):\n",
    "    \"\"\"Recommend products using FAISS search with optional price filtering.\"\"\"\n",
    "    price_filter = extract_price_range(user_query)\n",
    "\n",
    "    # Default price range\n",
    "    min_price = 0\n",
    "    max_price_filter = float(\"inf\")\n",
    "    \n",
    "    # Apply extracted price filter\n",
    "    if price_filter:\n",
    "        filter_type, value = price_filter\n",
    "        if filter_type == \"max\":\n",
    "            max_price_filter = value\n",
    "        elif filter_type == \"min\":\n",
    "            min_price = value\n",
    "    \n",
    "    # Search FAISS\n",
    "    results = search_faiss(user_query, price=min_price, top_k=top_k)\n",
    "\n",
    "    # Filter strictly by price\n",
    "    filtered = [r for r in results if min_price <= r[\"actual_price\"] <= max_price_filter]\n",
    "    \n",
    "    return filtered\n"
   ]
  },
  {
   "cell_type": "markdown",
   "id": "46ca3022",
   "metadata": {},
   "source": [
    "### 8. Summary Generator"
   ]
  },
  {
   "cell_type": "code",
   "execution_count": 12,
   "id": "fffbeb66",
   "metadata": {},
   "outputs": [],
   "source": [
    "def generate_summary(results):\n",
    "    \"\"\"Generate a structured summary ensuring name, price, and ratings are included.\"\"\"\n",
    "\n",
    "    # Check if the results list is empty\n",
    "    if not results:\n",
    "        return \"No products to summarize.\"\n",
    "    \n",
    "    # Format each product's information\n",
    "    product_info = \"\\n\".join([\n",
    "        f\"- {item['name']} (Price: ₹{item['actual_price']}, Rating: {item['ratings']}⭐)\"\n",
    "        for item in results\n",
    "    ])\n",
    "    \n",
    "    # Create a prompt for the chatbot\n",
    "    prompt = (\n",
    "        \"Summarize these product recommendations in a friendly tone. \"\n",
    "        \"Ensure each product includes its name, price (in ₹), and ratings. \"\n",
    "        \"Show the product in a point list.\"\n",
    "        \"Do not omit any information:\\n\"\n",
    "        f\"{product_info}\"\n",
    "    )\n",
    "    \n",
    "    return chatbot_response(prompt)\n"
   ]
  },
  {
   "cell_type": "markdown",
   "id": "f8e0b313",
   "metadata": {},
   "source": [
    "### 9. Test Queries"
   ]
  },
  {
   "cell_type": "code",
   "execution_count": 18,
   "id": "54017af8",
   "metadata": {},
   "outputs": [
    {
     "name": "stdout",
     "output_type": "stream",
     "text": [
      "📘 Summary:\n",
      " - Stay cool this summer with these portable air conditioners!\n",
      "1. Trends Alert Mini Air Conditioner Portable Air Mini Cooler Cooling Fan Mini Desktop Mobile Home Portable Air Conditioner (Price: ₹2999, Rating: 1.0⭐)\n",
      "2. Go Arctic Air Portable 3 in 1 Conditioner Humidifier Purifier Mini Cooler Arctic Air Humidifier Purifier Mini Cooler Air (Price: ₹1899, Rating: 1.0⭐)\n",
      "3. Haier 1.5 Ton 3 Star Inverter Split Air Conditioner Copper HSU19DW3DCINV White (Price: ₹69500, Rating: 1.0⭐)\n",
      "4. Derike Portable Mini AC USB Battery Operated Air Conditioner Mini Water Air Cooler Cooling Fan Bladeless Dual Blower with (Price: ₹999, Rating: 1.0⭐)\n",
      "5. Domact Mini AC USB Battery Operated Air Conditioner Mini Water Air Cooler Cooling Fan Bladeless Dual Blower with Ice Chamber (Price: ₹999, Rating: 1.0⭐) \n",
      "\n",
      "====================================================================================================\n"
     ]
    }
   ],
   "source": [
    "# TEST: Try a Sample Query\n",
    "test_queries = [\n",
    "    \"Air conditioner under ₹70000\"\n",
    "]\n",
    "\n",
    "for q in test_queries:\n",
    "    recommended = recommend_products(q)\n",
    "\n",
    "    # # display retrieved data\n",
    "    # print(f\"🧾 Query: {q}\")\n",
    "    # for item in recommended:\n",
    "    #     print(f\"- {item['name']} | ₹{item['actual_price']} | ⭐ {item['ratings']}\")\n",
    "    \n",
    "    print(\"📘 Summary:\\n\", generate_summary(recommended), \"\\n\\n\" + \"=\"*100)\n",
    "\n"
   ]
  }
 ],
 "metadata": {
  "kernelspec": {
   "display_name": "venv",
   "language": "python",
   "name": "python3"
  },
  "language_info": {
   "codemirror_mode": {
    "name": "ipython",
    "version": 3
   },
   "file_extension": ".py",
   "mimetype": "text/x-python",
   "name": "python",
   "nbconvert_exporter": "python",
   "pygments_lexer": "ipython3",
   "version": "3.11.2"
  }
 },
 "nbformat": 4,
 "nbformat_minor": 5
}
